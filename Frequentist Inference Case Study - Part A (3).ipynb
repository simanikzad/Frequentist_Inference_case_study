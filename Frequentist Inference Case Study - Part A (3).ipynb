{
 "cells": [
  {
   "cell_type": "markdown",
   "metadata": {},
   "source": [
    "# Frequentist Inference Case Study - Part A "
   ]
  },
  {
   "cell_type": "markdown",
   "metadata": {},
   "source": [
    "## 1. Learning objectives"
   ]
  },
  {
   "cell_type": "markdown",
   "metadata": {},
   "source": [
    "Welcome to part A of the Frequentist inference case study! The purpose of this case study is to help you apply the concepts associated with Frequentist inference in Python. Frequentist inference is the process of deriving conclusions about an underlying distribution via the observation of data. In particular, you'll practice writing Python code to apply the following statistical concepts: \n",
    "* the _z_-statistic\n",
    "* the _t_-statistic\n",
    "* the difference and relationship between the two\n",
    "* the Central Limit Theorem, including its assumptions and consequences\n",
    "* how to estimate the population mean and standard deviation from a sample\n",
    "* the concept of a sampling distribution of a test statistic, particularly for the mean\n",
    "* how to combine these concepts to calculate a confidence interval"
   ]
  },
  {
   "cell_type": "markdown",
   "metadata": {},
   "source": [
    "## Prerequisites"
   ]
  },
  {
   "cell_type": "markdown",
   "metadata": {},
   "source": [
    "To be able to complete this notebook, you are expected to have a basic understanding of:\n",
    "* what a random variable is (p.400 of Professor Spiegelhalter's *The Art of Statistics, hereinafter AoS*)\n",
    "* what a population, and a population distribution, are (p. 397 of *AoS*)\n",
    "* a high-level sense of what the normal distribution is (p. 394 of *AoS*)\n",
    "* what the t-statistic is (p. 275 of *AoS*)\n",
    "\n",
    "Happily, these should all be concepts with which you are reasonably familiar after having read ten chapters of Professor Spiegelhalter's book, *The Art of Statistics*.\n",
    "\n",
    "We'll try to relate the concepts in this case study back to page numbers in *The Art of Statistics* so that you can focus on the Python aspects of this case study. The second part (part B) of this case study will involve another, more real-world application of these tools. "
   ]
  },
  {
   "cell_type": "markdown",
   "metadata": {},
   "source": [
    "For this notebook, we will use data sampled from a known normal distribution. This allows us to compare our results with theoretical expectations."
   ]
  },
  {
   "cell_type": "markdown",
   "metadata": {},
   "source": [
    "## 2. An introduction to sampling from the normal distribution"
   ]
  },
  {
   "cell_type": "markdown",
   "metadata": {},
   "source": [
    "First, let's explore the ways we can generate the normal distribution. While there's a fair amount of interest in [sklearn](https://scikit-learn.org/stable/) within the machine learning community, you're likely to have heard of [scipy](https://docs.scipy.org/doc/scipy-0.15.1/reference/index.html) if you're coming from the sciences. For this assignment, you'll use [scipy.stats](https://docs.scipy.org/doc/scipy-0.15.1/reference/tutorial/stats.html) to complete your work. \n",
    "\n",
    "This assignment will require some digging around and getting your hands dirty (your learning is maximized that way)! You should have the research skills and the tenacity to do these tasks independently, but if you struggle, reach out to your immediate community and your mentor for help. "
   ]
  },
  {
   "cell_type": "code",
   "execution_count": 363,
   "metadata": {},
   "outputs": [],
   "source": [
    "from scipy.stats import norm\n",
    "from scipy.stats import t\n",
    "import numpy as np\n",
    "import pandas as pd\n",
    "from numpy.random import seed\n",
    "import matplotlib.pyplot as plt\n",
    "import math\n",
    "import random"
   ]
  },
  {
   "cell_type": "markdown",
   "metadata": {},
   "source": [
    "__Q1:__ Call up the documentation for the `norm` function imported above. (Hint: that documentation is [here](https://docs.scipy.org/doc/scipy/reference/generated/scipy.stats.norm.html)). What is the second listed method?"
   ]
  },
  {
   "cell_type": "code",
   "execution_count": null,
   "metadata": {},
   "outputs": [],
   "source": []
  },
  {
   "cell_type": "markdown",
   "metadata": {},
   "source": [
    "__A:__"
   ]
  },
  {
   "cell_type": "markdown",
   "metadata": {},
   "source": [
    "__Q2:__ Use the method that generates random variates to draw five samples from the standard normal distribution. "
   ]
  },
  {
   "cell_type": "markdown",
   "metadata": {},
   "source": [
    "__A:__"
   ]
  },
  {
   "cell_type": "code",
   "execution_count": 364,
   "metadata": {},
   "outputs": [
    {
     "data": {
      "text/plain": [
       "array([-0.84800948,  1.30590636,  0.92420797,  0.6404118 , -1.05473698])"
      ]
     },
     "execution_count": 364,
     "metadata": {},
     "output_type": "execute_result"
    }
   ],
   "source": [
    "seed(47)\n",
    "# draw five samples here\n",
    "W = np.random.normal(size=5)\n",
    "W"
   ]
  },
  {
   "cell_type": "markdown",
   "metadata": {},
   "source": [
    "__Q3:__ What is the mean of this sample? Is it exactly equal to the value you expected? Hint: the sample was drawn from the standard normal distribution. If you want a reminder of the properties of this distribution, check out p. 85 of *AoS*. "
   ]
  },
  {
   "cell_type": "markdown",
   "metadata": {},
   "source": [
    "__A:__"
   ]
  },
  {
   "cell_type": "code",
   "execution_count": 236,
   "metadata": {},
   "outputs": [
    {
     "data": {
      "text/plain": [
       "0.19355593334131074"
      ]
     },
     "execution_count": 236,
     "metadata": {},
     "output_type": "execute_result"
    }
   ],
   "source": [
    "# Calculate and print the mean here, hint: use np.mean()\n",
    "np.mean(W)\n"
   ]
  },
  {
   "cell_type": "code",
   "execution_count": 238,
   "metadata": {},
   "outputs": [
    {
     "data": {
      "text/plain": [
       "0.9606195639478641"
      ]
     },
     "execution_count": 238,
     "metadata": {},
     "output_type": "execute_result"
    }
   ],
   "source": [
    "np.std(W)"
   ]
  },
  {
   "cell_type": "markdown",
   "metadata": {},
   "source": [
    "__Q4:__ What is the standard deviation of these numbers? Calculate this manually here as $\\sqrt{\\frac{\\sum_i(x_i - \\bar{x})^2}{n}}$ (This is just the definition of **standard deviation** given by Professor Spiegelhalter on p.403 of *AoS*). Hint: np.sqrt() and np.sum() will be useful here and remember that numPy supports [broadcasting](https://docs.scipy.org/doc/numpy/user/basics.broadcasting.html)."
   ]
  },
  {
   "cell_type": "markdown",
   "metadata": {},
   "source": [
    "__A:__"
   ]
  },
  {
   "cell_type": "markdown",
   "metadata": {},
   "source": [
    "def mean(data):\n",
    "  n = len(data)\n",
    "  mean = sum(data) / n\n",
    "  return mean\n",
    " \n",
    "def variance(data):\n",
    "  n = len(data)\n",
    "  mean = sum(data) / n\n",
    "  deviations = [(x - mean) ** 2 for x in data]\n",
    "  variance = sum(deviations) / n\n",
    "  return variance\n",
    " \n",
    "def stdev(data):\n",
    "  var = variance(data)\n",
    "  std_dev = math.sqrt(var)\n",
    "  return std_dev\n",
    " \n",
    "std_dev(W)\n",
    "\n"
   ]
  },
  {
   "cell_type": "code",
   "execution_count": 417,
   "metadata": {},
   "outputs": [
    {
     "data": {
      "text/plain": [
       "0.9606195639478641"
      ]
     },
     "execution_count": 417,
     "metadata": {},
     "output_type": "execute_result"
    }
   ],
   "source": [
    "n = len(W)\n",
    "y = [(x-mean(W)) ** 2 for x in W]\n",
    "std1 = (sum(y))/n\n",
    "std = math.sqrt(std1)\n",
    "std"
   ]
  },
  {
   "cell_type": "markdown",
   "metadata": {},
   "source": [
    "Here we have calculated the actual standard deviation of a small data set (of size 5). But in this case, this small data set is actually a sample from our larger (infinite) population. In this case, the population is infinite because we could keep drawing our normal random variates until our computers die! \n",
    "\n",
    "In general, the sample mean we calculate will not be equal to the population mean (as we saw above). A consequence of this is that the sum of squares of the deviations from the _population_ mean will be bigger than the sum of squares of the deviations from the _sample_ mean. In other words, the sum of squares of the deviations from the _sample_ mean is too small to give an unbiased estimate of the _population_ variance. An example of this effect is given [here](https://en.wikipedia.org/wiki/Bessel%27s_correction#Source_of_bias). Scaling our estimate of the variance by the factor $n/(n-1)$ gives an unbiased estimator of the population variance. This factor is known as [Bessel's correction](https://en.wikipedia.org/wiki/Bessel%27s_correction). The consequence of this is that the $n$ in the denominator is replaced by $n-1$.\n",
    "\n",
    "You can see Bessel's correction reflected in Professor Spiegelhalter's definition of **variance** on p. 405 of *AoS*.\n",
    "\n",
    "__Q5:__ If all we had to go on was our five samples, what would be our best estimate of the population standard deviation? Use Bessel's correction ($n-1$ in the denominator), thus $\\sqrt{\\frac{\\sum_i(x_i - \\bar{x})^2}{n-1}}$."
   ]
  },
  {
   "cell_type": "markdown",
   "metadata": {},
   "source": [
    "__A:__"
   ]
  },
  {
   "cell_type": "code",
   "execution_count": 119,
   "metadata": {},
   "outputs": [
    {
     "data": {
      "text/plain": [
       "1.0740053227518152"
      ]
     },
     "execution_count": 119,
     "metadata": {},
     "output_type": "execute_result"
    }
   ],
   "source": [
    "n = len(W)\n",
    "y = [(x-mean(W)) ** 2 for x in W]\n",
    "stdd1 = (sum(y))/(n-1)\n",
    "stdd = math.sqrt(stdd1)\n",
    "stdd"
   ]
  },
  {
   "cell_type": "markdown",
   "metadata": {},
   "source": [
    "__Q6:__ Now use numpy's std function to calculate the standard deviation of our random samples. Which of the above standard deviations did it return?"
   ]
  },
  {
   "cell_type": "markdown",
   "metadata": {},
   "source": [
    "__A:__"
   ]
  },
  {
   "cell_type": "code",
   "execution_count": 120,
   "metadata": {},
   "outputs": [
    {
     "data": {
      "text/plain": [
       "0.9606195639478641"
      ]
     },
     "execution_count": 120,
     "metadata": {},
     "output_type": "execute_result"
    }
   ],
   "source": [
    "np.std(W)"
   ]
  },
  {
   "cell_type": "markdown",
   "metadata": {},
   "source": [
    "__Q7:__ Consult the documentation for np.std() to see how to apply the correction for estimating the population parameter and verify this produces the expected result."
   ]
  },
  {
   "cell_type": "markdown",
   "metadata": {},
   "source": [
    "__A:__"
   ]
  },
  {
   "cell_type": "code",
   "execution_count": 121,
   "metadata": {},
   "outputs": [
    {
     "data": {
      "text/plain": [
       "0.9606195639478641"
      ]
     },
     "execution_count": 121,
     "metadata": {},
     "output_type": "execute_result"
    }
   ],
   "source": [
    "np.std(W, ddof=0)"
   ]
  },
  {
   "cell_type": "code",
   "execution_count": 122,
   "metadata": {},
   "outputs": [
    {
     "data": {
      "text/plain": [
       "1.0740053227518152"
      ]
     },
     "execution_count": 122,
     "metadata": {},
     "output_type": "execute_result"
    }
   ],
   "source": [
    "np.std(W, ddof=1)"
   ]
  },
  {
   "cell_type": "markdown",
   "metadata": {},
   "source": [
    "### Summary of section"
   ]
  },
  {
   "cell_type": "markdown",
   "metadata": {},
   "source": [
    "In this section, you've been introduced to the scipy.stats package and used it to draw a small sample from the standard normal distribution. You've calculated the average (the mean) of this sample and seen that this is not exactly equal to the expected population parameter (which we know because we're generating the random variates from a specific, known distribution). You've been introduced to two ways of calculating the standard deviation; one uses $n$ in the denominator and the other uses $n-1$ (Bessel's correction). You've also seen which of these calculations np.std() performs by default and how to get it to generate the other."
   ]
  },
  {
   "cell_type": "markdown",
   "metadata": {},
   "source": [
    "You use $n$ as the denominator if you want to calculate the standard deviation of a sequence of numbers. You use $n-1$ if you are using this sequence of numbers to estimate the population parameter. This brings us to some terminology that can be a little confusing.\n",
    "\n",
    "The population parameter is traditionally written as $\\sigma$ and the sample statistic as $s$. Rather unhelpfully, $s$ is also called the sample standard deviation (using $n-1$) whereas the standard deviation of the sample uses $n$. That's right, we have the sample standard deviation and the standard deviation of the sample and they're not the same thing!\n",
    "\n",
    "The sample standard deviation\n",
    "\\begin{equation}\n",
    "s = \\sqrt{\\frac{\\sum_i(x_i - \\bar{x})^2}{n-1}} \\approx \\sigma,\n",
    "\\end{equation}\n",
    "is our best (unbiased) estimate of the population parameter ($\\sigma$).\n",
    "\n",
    "If your dataset _is_ your entire population, you simply want to calculate the population parameter, $\\sigma$, via\n",
    "\\begin{equation}\n",
    "\\sigma = \\sqrt{\\frac{\\sum_i(x_i - \\bar{x})^2}{n}}\n",
    "\\end{equation}\n",
    "as you have complete, full knowledge of your population. In other words, your sample _is_ your population. It's worth noting that we're dealing with what Professor Spiegehalter describes on p. 92 of *AoS* as a **metaphorical population**: we have all the data, and we act as if the data-point is taken from a population at random. We can think of this population as an imaginary space of possibilities. \n",
    "\n",
    "If, however, you have sampled _from_ your population, you only have partial knowledge of the state of your population. In this case, the standard deviation of your sample is not an unbiased estimate of the standard deviation of the population, in which case you seek to estimate that population parameter via the sample standard deviation, which uses the $n-1$ denominator."
   ]
  },
  {
   "cell_type": "markdown",
   "metadata": {},
   "source": [
    "Great work so far! Now let's dive deeper."
   ]
  },
  {
   "cell_type": "markdown",
   "metadata": {},
   "source": [
    "## 3. Sampling distributions"
   ]
  },
  {
   "cell_type": "markdown",
   "metadata": {},
   "source": [
    "So far we've been dealing with the concept of taking a sample from a population to infer the population parameters. One statistic we calculated for a sample was the mean. As our samples will be expected to vary from one draw to another, so will our sample statistics. If we were to perform repeat draws of size $n$ and calculate the mean of each, we would expect to obtain a distribution of values. This is the sampling distribution of the mean. **The Central Limit Theorem (CLT)** tells us that such a distribution will approach a normal distribution as $n$ increases (the intuitions behind the CLT are covered in full on p. 236 of *AoS*). For the sampling distribution of the mean, the standard deviation of this distribution is given by\n",
    "\n",
    "\\begin{equation}\n",
    "\\sigma_{mean} = \\frac{\\sigma}{\\sqrt n}\n",
    "\\end{equation}\n",
    "\n",
    "where $\\sigma_{mean}$ is the standard deviation of the sampling distribution of the mean and $\\sigma$ is the standard deviation of the population (the population parameter)."
   ]
  },
  {
   "cell_type": "markdown",
   "metadata": {},
   "source": [
    "This is important because typically we are dealing with samples from populations and all we know about the population is what we see in the sample. From this sample, we want to make inferences about the population. We may do this, for example, by looking at the histogram of the values and by calculating the mean and standard deviation (as estimates of the population parameters), and so we are intrinsically interested in how these quantities vary across samples. \n",
    "\n",
    "In other words, now that we've taken one sample of size $n$ and made some claims about the general population, what if we were to take another sample of size $n$? Would we get the same result? Would we make the same claims about the general population? This brings us to a fundamental question: _when we make some inference about a population based on our sample, how confident can we be that we've got it 'right'?_\n",
    "\n",
    "We need to think about **estimates and confidence intervals**: those concepts covered in Chapter 7, p. 189, of *AoS*."
   ]
  },
  {
   "cell_type": "markdown",
   "metadata": {},
   "source": [
    "Now, the standard normal distribution (with its variance equal to its standard deviation of one) would not be a great illustration of a key point. Instead, let's imagine we live in a town of 50,000 people and we know the height of everyone in this town. We will have 50,000 numbers that tell us everything about our population. We'll simulate these numbers now and put ourselves in one particular town, called 'town 47', where the population mean height is 172 cm and population standard deviation is 5 cm."
   ]
  },
  {
   "cell_type": "code",
   "execution_count": 123,
   "metadata": {},
   "outputs": [],
   "source": [
    "seed(47)\n",
    "pop_heights = norm.rvs(172, 5, size=50000)"
   ]
  },
  {
   "cell_type": "code",
   "execution_count": 124,
   "metadata": {},
   "outputs": [
    {
     "data": {
      "image/png": "[encoded data removed]",
      "text/plain": [
       "<Figure size 432x288 with 1 Axes>"
      ]
     },
     "metadata": {
      "needs_background": "light"
     },
     "output_type": "display_data"
    }
   ],
   "source": [
    "_ = plt.hist(pop_heights, bins=30)\n",
    "_ = plt.xlabel('height (cm)')\n",
    "_ = plt.ylabel('number of people')\n",
    "_ = plt.title('Distribution of heights in entire town population')\n",
    "_ = plt.axvline(172, color='r')\n",
    "_ = plt.axvline(172+5, color='r', linestyle='--')\n",
    "_ = plt.axvline(172-5, color='r', linestyle='--')\n",
    "_ = plt.axvline(172+10, color='r', linestyle='-.')\n",
    "_ = plt.axvline(172-10, color='r', linestyle='-.')"
   ]
  },
  {
   "cell_type": "markdown",
   "metadata": {},
   "source": [
    "Now, 50,000 people is rather a lot to chase after with a tape measure. If all you want to know is the average height of the townsfolk, then can you just go out and measure a sample to get a pretty good estimate of the average height?"
   ]
  },
  {
   "cell_type": "code",
   "execution_count": 239,
   "metadata": {},
   "outputs": [],
   "source": [
    "def townsfolk_sampler(n):\n",
    "    return np.random.choice(pop_heights, n)"
   ]
  },
  {
   "cell_type": "markdown",
   "metadata": {},
   "source": [
    "Let's say you go out one day and randomly sample 10 people to measure."
   ]
  },
  {
   "cell_type": "code",
   "execution_count": 240,
   "metadata": {},
   "outputs": [],
   "source": [
    "seed(47)\n",
    "daily_sample1 = townsfolk_sampler(10)"
   ]
  },
  {
   "cell_type": "code",
   "execution_count": 413,
   "metadata": {},
   "outputs": [
    {
     "data": {
      "image/png": "[encoded data removed]",
      "text/plain": [
       "<Figure size 432x288 with 1 Axes>"
      ]
     },
     "metadata": {},
     "output_type": "display_data"
    }
   ],
   "source": [
    "_ = plt.hist(daily_sample1, bins=10)\n",
    "_ = plt.xlabel('height (cm)')\n",
    "_ = plt.ylabel('number of people')\n",
    "_ = plt.title('Distribution of heights in sample size 10')"
   ]
  },
  {
   "cell_type": "markdown",
   "metadata": {},
   "source": [
    "The sample distribution doesn't resemble what we take the population distribution to be. What do we get for the mean?"
   ]
  },
  {
   "cell_type": "code",
   "execution_count": 414,
   "metadata": {},
   "outputs": [
    {
     "data": {
      "text/plain": [
       "173.47911444163503"
      ]
     },
     "execution_count": 414,
     "metadata": {},
     "output_type": "execute_result"
    }
   ],
   "source": [
    "np.mean(daily_sample1)"
   ]
  },
  {
   "cell_type": "markdown",
   "metadata": {},
   "source": [
    "And if we went out and repeated this experiment?"
   ]
  },
  {
   "cell_type": "code",
   "execution_count": 415,
   "metadata": {},
   "outputs": [
    {
     "data": {
      "text/plain": [
       "array([176.71783209, 176.36030615, 171.53073412, 167.2285937 ,\n",
       "       171.16730622, 168.82616716, 177.42370814, 177.47745619,\n",
       "       176.3044993 , 179.89934287])"
      ]
     },
     "execution_count": 415,
     "metadata": {},
     "output_type": "execute_result"
    }
   ],
   "source": [
    "daily_sample2 = townsfolk_sampler(10)\n",
    "daily_sample2"
   ]
  },
  {
   "cell_type": "code",
   "execution_count": 416,
   "metadata": {},
   "outputs": [
    {
     "data": {
      "text/plain": [
       "174.29359459303342"
      ]
     },
     "execution_count": 416,
     "metadata": {},
     "output_type": "execute_result"
    }
   ],
   "source": [
    "np.mean(daily_sample2)"
   ]
  },
  {
   "cell_type": "markdown",
   "metadata": {},
   "source": [
    "__Q8:__ Simulate performing this random trial every day for a year, calculating the mean of each daily sample of 10, and plot the resultant sampling distribution of the mean."
   ]
  },
  {
   "cell_type": "markdown",
   "metadata": {},
   "source": [
    "__A:__"
   ]
  },
  {
   "cell_type": "code",
   "execution_count": 368,
   "metadata": {},
   "outputs": [
    {
     "data": {
      "text/plain": [
       "365"
      ]
     },
     "execution_count": 368,
     "metadata": {},
     "output_type": "execute_result"
    }
   ],
   "source": [
    "#year = np.random.choice(daily_sample2, 365)\n",
    "year =[np.random.choice(daily_sample2, size=10) for i in range(365)]\n",
    "#year = np.random.choice(daily_sample2, size=10)\n",
    "len(year)"
   ]
  },
  {
   "cell_type": "code",
   "execution_count": 422,
   "metadata": {},
   "outputs": [
    {
     "name": "stdout",
     "output_type": "stream",
     "text": [
      "[173.1700465219006, 173.23904579411638, 173.23539720415818, 173.96102097005013, 173.60075585706772, 174.19882535298098, 174.08546719774043, 173.2739305481, 173.17113119484273, 173.79061424050383, 175.6075196807768, 173.79013290388454, 172.65835311452093, 172.51963599783312, 172.23436822796947, 173.3962339064054, 173.61624160988737, 171.34328663319928, 174.91574871905476, 172.98266011026308, 173.73921324652125, 173.01125372849702, 172.14629966742157, 173.34617528903146, 173.1405071174999, 174.3052391704789, 172.93886568656265, 172.9850747904951, 172.19465996352335, 173.23523669569, 171.79739957527664, 173.09034296026243, 172.0392149748887, 174.35143846536158, 173.63573675213556, 173.4825862473736, 171.0601929366763, 174.86640544878554, 173.49659660650772, 171.46507076213794, 173.3665580714144, 172.2691802606042, 173.86562658204906, 173.58105199045568, 171.66430121866773, 172.79334243736503, 174.67198067001607, 173.50026375587544, 174.21457715413231, 172.88552882669973, 172.66555178041793, 172.8276302714799, 173.75813489771807, 174.005558562559, 174.07081593922894, 174.23998698318573, 172.72816490812187, 172.976797345178, 174.5850604562101, 172.9275001257096, 172.27817679685194, 174.87028254784445, 173.71840433003658, 173.42741328796149, 173.83027567534356, 173.14885584535494, 172.06358572549087, 173.29632106365816, 174.47552180075215, 173.62549219898096, 172.38838363763304, 174.7379456821464, 172.32156298033564, 173.0015218027842, 173.7473301833701, 172.59544092188565, 173.0083852042579, 174.02300562269937, 173.85775261149098, 173.8010638672017, 173.4244221093988, 172.49633175715857, 172.94339013209384, 173.01029449259548, 173.63518339705124, 174.0935058500308, 172.40906845484466, 173.82395458527756, 172.57110011630033, 173.02931480528122, 173.05526147740082, 173.38021346021583, 172.56012616446557, 172.4406233921931, 173.00359817891234, 173.508078775213, 174.02722477520715, 172.56188482324768, 172.905420580731, 173.739560176118, 172.85814769580494, 173.63969032188828, 174.260577478697, 172.69926734880875, 174.37007314563738, 173.3787173812481, 172.18752442211095, 174.6795296410219, 172.34484960731083, 172.2869708748292, 175.16098400372564, 172.18308432636218, 174.18626563067153, 174.1983639657168, 173.3676230807062, 173.87251406140055, 171.73035969925394, 172.92525123632782, 173.63547116938054, 173.60881181912822, 174.17448154445498, 171.73395556608375, 172.66719468459223, 174.1510818117566, 173.55094462021202, 174.8195857208049, 172.4888034714349, 173.6659347382551, 173.924958091752, 174.46553356131844, 172.87274205792397, 173.31921178173405, 173.47160395087363, 172.0561516684624, 174.12832512564955, 172.8130476559213, 173.52135758845304, 172.68782712990568, 171.9072038134896, 172.71247070624685, 173.61325191487697, 172.6385028846227, 171.65653720220064, 173.68060351746075, 172.32292300128447, 174.31047306533512, 173.17236169105544, 173.05135136174232, 173.3399924041983, 174.0489957489132, 172.49921826766857, 174.0520485684082, 172.6380768678384, 174.49393907616727, 172.9686918245772, 172.95884001573387, 172.84693598965887, 174.0792471249065, 173.31189844846642, 173.0795484275357, 172.41484545886053, 172.52028484494116, 172.60763253991595, 174.53756688817424, 172.40954028146638, 172.4905686610176, 173.06751321697504, 172.35911085470278, 172.9119600917704, 173.51595354352304, 172.7253419876732, 173.01959214860256, 174.45151157926995, 173.0597070916179, 172.7150191499601, 172.19013889350427, 173.19021281449216, 174.300644794354, 172.22059918412967, 173.4725466747571, 174.43041670797697, 175.07186354400892, 173.25674579246552, 173.28426571713044, 173.41114329615874, 174.9605720302857, 174.28041537727785, 175.6668511904797, 173.10561342479454, 173.16596931845152, 174.3048639468618, 173.63608549925326, 173.8775061602894, 173.89912372946654, 172.2735947520444, 173.73792177552008, 173.39535430700658, 173.78381396351472, 174.43176800238948, 173.67803509686826, 174.05958520809665, 171.9249944277146, 175.22175041704065, 172.57441806905769, 174.1015366232326, 172.8549421746648, 174.5176658651088, 173.9900728097394, 174.66482714233285, 172.0020202618668, 173.90189759617377, 173.45563136934945, 172.6978343943256, 173.1542475589676, 172.30869422117695, 173.65055816072086, 174.12132769220705, 173.41309106578115, 172.59849030404368, 173.56288732293697, 174.59418109173086, 172.49868559786648, 172.69210013786392, 173.12687538387812, 171.56414119348716, 173.5929805479986, 172.39523739750112, 173.89601990710102, 173.4959194653793, 174.0729260348405, 172.64461741759314, 172.71628650020497, 173.94917375934895, 172.74932155195526, 172.99099546808537, 173.48007708635336, 172.61307709286635, 172.4532747464911, 173.8152926473092, 173.08374812938814, 173.33015790512508, 173.79519001921784, 173.6527517302677, 174.18720835455497, 173.08361598937918, 174.2704902623287, 173.46913096296234, 171.64383484503213, 174.32864025512148, 173.28406325886004, 172.76820783267223, 173.36412301912907, 174.6047134172147, 174.05809839816305, 173.453143686941, 172.2310286748605, 173.34914268080652, 173.22452936532562, 172.11179195091975, 172.09912826530433, 174.14330546397213, 172.94541752891945, 172.18066102063727, 173.26791554880938, 173.96228414703089, 173.60485975366748, 173.84581007163422, 172.4695309234242, 173.0406533004121, 172.8057063551653, 171.5764377316632, 172.8329800352904, 172.26784162782144, 172.5439271212321, 173.55022111505392, 171.29768221753392, 171.72738233556092, 172.8856770038505, 173.41537659384855, 172.3221070663858, 171.83961657316763, 173.83058471219286, 171.84875641041828, 172.6510424709651, 173.48205357757152, 173.31476899627347, 173.7382705226378, 171.64702065778062, 172.1314538677296, 173.29659051388506, 172.6663883912992, 173.19134646673686, 172.88813434228774, 171.9750151523411, 174.02650299456474, 173.6956175752667, 172.48536707435798, 173.9721276019094, 172.85386541881255, 172.92311388541128, 174.2882118610294, 174.23540493837828, 173.12300662948445, 172.41992396235986, 173.2786937866579, 172.67020001199324, 171.29602280134148, 173.39850845022255, 173.27495597076944, 173.56000428094433, 172.73611819451716, 174.05296481579222, 173.11288877230942, 173.56058457810474, 172.61806802143178, 171.84464201896844, 173.61267477300504, 173.06316996519425, 172.60146009444034, 172.70816956335608, 172.9976176779107, 171.6186968030024, 172.89895581709058, 172.72176916000586, 174.53146320296895, 172.60386062949027, 173.2722050687857, 173.30454196381305, 172.84754850201065, 171.95261466486494, 173.95695609791844, 172.20861929340396, 172.38225451098737, 174.13197189808685, 174.1458230913974, 172.56922881371548, 173.74523241907593, 173.79328152863218, 173.4137592511043, 173.28700428779675, 173.84150640647582, 174.51858211249282, 173.19983862720284, 173.04251091973532, 174.16002121430475, 173.84711552494917, 172.8735273356224, 173.19181749560664, 172.42353295825896, 172.94185569480192, 173.9247883142496, 174.0306753174661, 172.35211342126027, 172.9674286475964, 174.02892630028964, 174.0644815017328, 171.47901594683657, 174.54936195376396, 174.61445837712878, 173.12867540392503, 173.9199043519308, 171.83588765125955, 174.3069310539558, 175.09716775875995, 172.8566883392613]\n"
     ]
    }
   ],
   "source": [
    "seed(47)\n",
    "Output = [] \n",
    "for i in range(len(year)):\n",
    "    Output.append(np.mean(year[i])) \n",
    "  \n",
    "# Printing output \n",
    "print(Output) "
   ]
  },
  {
   "cell_type": "code",
   "execution_count": 423,
   "metadata": {},
   "outputs": [
    {
     "data": {
      "text/plain": [
       "365"
      ]
     },
     "execution_count": 423,
     "metadata": {},
     "output_type": "execute_result"
    }
   ],
   "source": [
    "seed(47)\n",
    "# take your samples here\n",
    "len(Output)"
   ]
  },
  {
   "cell_type": "code",
   "execution_count": 424,
   "metadata": {},
   "outputs": [
    {
     "data": {
      "text/plain": [
       "(array([ 6., 19., 38., 63., 74., 69., 57., 28.,  8.,  3.]),\n",
       " array([171.06019294, 171.52085876, 171.98152459, 172.44219041,\n",
       "        172.90285624, 173.36352206, 173.82418789, 174.28485371,\n",
       "        174.74551954, 175.20618537, 175.66685119]),\n",
       " <a list of 10 Patch objects>)"
      ]
     },
     "execution_count": 424,
     "metadata": {},
     "output_type": "execute_result"
    },
    {
     "data": {
      "image/png": "[encoded data removed]",
      "text/plain": [
       "<Figure size 432x288 with 1 Axes>"
      ]
     },
     "metadata": {},
     "output_type": "display_data"
    }
   ],
   "source": [
    "plt.hist(Output, bins=10)"
   ]
  },
  {
   "cell_type": "markdown",
   "metadata": {},
   "source": [
    "The above is the distribution of the means of samples of size 10 taken from our population. The Central Limit Theorem tells us the expected mean of this distribution will be equal to the population mean, and standard deviation will be $\\sigma / \\sqrt n$, which, in this case, should be approximately 1.58."
   ]
  },
  {
   "cell_type": "markdown",
   "metadata": {},
   "source": [
    "__Q9:__ Verify the above results from the CLT."
   ]
  },
  {
   "cell_type": "markdown",
   "metadata": {},
   "source": [
    "__A:__"
   ]
  },
  {
   "cell_type": "code",
   "execution_count": 425,
   "metadata": {},
   "outputs": [
    {
     "data": {
      "text/plain": [
       "173.25080181100265"
      ]
     },
     "execution_count": 425,
     "metadata": {},
     "output_type": "execute_result"
    }
   ],
   "source": [
    "np.mean(Output)"
   ]
  },
  {
   "cell_type": "code",
   "execution_count": 426,
   "metadata": {},
   "outputs": [
    {
     "data": {
      "text/plain": [
       "0.8337064691851115"
      ]
     },
     "execution_count": 426,
     "metadata": {},
     "output_type": "execute_result"
    }
   ],
   "source": [
    "np.std(Output)"
   ]
  },
  {
   "cell_type": "markdown",
   "metadata": {},
   "source": [
    "Remember, in this instance, we knew our population parameters, that the average height really is 172 cm and the standard deviation is 5 cm, and we see some of our daily estimates of the population mean were as low as around 168 and some as high as 176."
   ]
  },
  {
   "cell_type": "markdown",
   "metadata": {},
   "source": [
    "__Q10:__ Repeat the above year's worth of samples but for a sample size of 50 (perhaps you had a bigger budget for conducting surveys that year)! Would you expect your distribution of sample means to be wider (more variable) or narrower (more consistent)? Compare your resultant summary statistics to those predicted by the CLT."
   ]
  },
  {
   "cell_type": "markdown",
   "metadata": {},
   "source": [
    "__A:__"
   ]
  },
  {
   "cell_type": "code",
   "execution_count": 437,
   "metadata": {},
   "outputs": [
    {
     "data": {
      "text/plain": [
       "365"
      ]
     },
     "execution_count": 437,
     "metadata": {},
     "output_type": "execute_result"
    }
   ],
   "source": [
    "seed(47)\n",
    "# calculate daily means from the larger sample size here\n",
    "year1 =[np.random.choice(daily_sample2, size=50) for i in range(365)]\n",
    "\n",
    "len(year1)"
   ]
  },
  {
   "cell_type": "code",
   "execution_count": 438,
   "metadata": {},
   "outputs": [
    {
     "name": "stdout",
     "output_type": "stream",
     "text": [
      "[174.60322242163681, 175.4765252184596, 174.94586576150104, 173.1069720569711, 174.9206175954262, 174.73898603137826, 174.39688455570575, 174.57338270263307, 174.56100544263572, 174.45148758006724, 175.33124063970143, 174.91925663710495, 175.4181778831702, 173.82171430289577, 174.9483789121167, 174.10148793086694, 173.49167047810926, 173.2585003455875, 173.94364927146245, 173.61467823831805, 174.91396490856417, 173.9981542941683, 174.5631021483886, 174.1675223927364, 174.68505711417492, 174.71142734669255, 174.78460943458893, 174.6273234003611, 174.07430761193632, 175.17177755952758, 173.3895561180408, 174.02869581479527, 174.0501477120377, 174.2134402899959, 173.8819049438042, 174.28266518444912, 174.19415242699756, 174.9781284653745, 175.0551587711016, 173.7177844084937, 174.33405220989516, 174.52884316023733, 174.6029893617364, 174.27898914364795, 174.2311824684719, 174.13137615190604, 173.5773099651884, 174.28036686392454, 174.30097978975104, 174.56420327023847, 174.66647792580454, 174.20373407643135, 173.50758765559334, 174.98411305378016, 174.22523124302342, 173.57665925354377, 174.25435143544092, 174.037198742542, 173.42722013650086, 174.64334270046012, 174.43769828656343, 173.26069823560175, 173.59628869464322, 174.47031104066937, 173.44576083439435, 175.12412722064673, 173.2399876470935, 175.23393663816526, 174.28887581148268, 174.17710905902678, 173.7240425309059, 174.0088835122644, 173.5557560660157, 174.35324424417718, 174.19691624365558, 174.61127261348116, 174.0917670101465, 175.74757433809793, 174.73369418256306, 175.5914392432083, 173.5020520835738, 173.85643235467975, 173.7497832285258, 174.09393302636613, 174.53846328111945, 174.24572568347241, 174.23201000923348, 174.3819801739771, 173.81794544830169, 175.12283206693385, 174.07388082817357, 174.57726638543355, 173.36111070039223, 174.04807366157019, 174.26165695117552, 174.4837791409019, 173.74176430908287, 174.01708417038418, 174.53886819943585, 174.4681870991722, 175.4490770148138, 174.8315093754608, 174.36221422761966, 174.04659449545835, 173.58488689293657, 174.37300462726844, 174.1148154863462, 173.64217390561535, 175.135482963699, 174.1174973332296, 173.95348939119174, 174.6436600129513, 175.134202002689, 173.60668570565878, 173.74349276911155, 173.68723603468032, 175.27756391741488, 174.82630562925053, 173.74113760330434, 174.31413011249566, 174.75916763401995, 174.72457377754733, 174.139943390072, 174.4458133766375, 174.0316398199558, 174.06952051474255, 174.0698911664051, 174.25675046018787, 173.78548823652628, 173.61404275554113, 173.82345856203895, 173.23481278567422, 173.72654050839802, 173.99797585910633, 175.8754156439883, 175.13396423059893, 174.7094599812144, 174.44421866797632, 173.41735627562375, 174.54337881418985, 174.39651504233555, 175.58251014231035, 174.37727543304362, 173.85087964151495, 175.08291485253542, 174.34952333324284, 173.49555339148048, 175.6565762591894, 174.34064305022028, 173.59453742297757, 173.13086339648896, 174.0632563702676, 174.68282252287568, 174.42236992972005, 174.35050477161465, 174.8903614409512, 174.26114781927333, 173.61224330631177, 174.97372903884218, 174.15353321264269, 174.90857283479107, 174.41123172268198, 173.4554759691572, 173.69788408078205, 174.89942669098033, 174.6804122268811, 174.3984160448298, 174.978183668873, 174.86097084449452, 174.10731065240026, 174.12705542973697, 174.8305845371089, 174.66695216390883, 175.25687384837636, 173.32461925018947, 174.1544557690009, 174.6565603239894, 174.11700394038814, 173.54958662431082, 173.86433462967048, 175.22309996517262, 174.84361913705578, 175.36294698847115, 173.9169971802402, 174.74098284579816, 174.77485794235363, 174.11302857772876, 175.04215299460012, 174.6325759421801, 175.39383871847778, 174.79422986681485, 173.4758426608454, 173.4724796453667, 174.07086641995323, 174.6728207026558, 174.51741760977006, 173.8141483377553, 173.76910495733281, 173.9237211036287, 173.84789807623875, 174.5917580407795, 174.39206341090357, 174.06097552724, 174.05183022705117, 174.38231630173865, 173.77813877730816, 174.61651052807335, 175.11489956292692, 175.2107938265239, 174.064371467022, 173.85083823706594, 175.1656301544291, 173.60364765308515, 173.56208732834307, 174.5054272557397, 175.12612774716752, 175.11906421166205, 174.10851310887318, 174.92697596779104, 173.0780735302229, 174.571167507557, 174.27126589864392, 174.06102089359524, 174.8647197332506, 174.06573811705636, 173.91869148385717, 174.72270398365256, 174.5158198547425, 174.18238230317868, 173.14951935918555, 173.75334701725495, 174.83435986018594, 173.89472292433211, 173.74554194326595, 174.66373890449805, 173.43964858451835, 173.76346246166875, 174.81225030062728, 173.92603765809133, 174.05480210217434, 174.82830781233918, 174.01398135458086, 174.5233839525714, 175.44355622446696, 174.43023838742417, 174.71457525365417, 173.23704752719243, 174.72208480348417, 174.93252464188157, 174.10554267761614, 174.60807469596196, 174.65231331780498, 174.17948281207097, 173.99870710513235, 173.91382593023306, 174.10636316541186, 174.31863173196297, 174.11835842650845, 174.36199660104137, 174.10242919405403, 175.28919044953946, 173.73820949075468, 174.515941006356, 173.98258313065736, 174.67001707375113, 173.93114601753953, 174.0151371068443, 173.67363260283605, 173.24466262464676, 173.8167565386388, 173.84118910546152, 174.44334269774012, 173.66946189489846, 174.24712866885457, 174.24866829887208, 174.8683125943054, 173.77830826604585, 173.98232026756475, 173.6868320483905, 174.13517974490773, 174.3845455703781, 174.03837067053598, 174.69198353130122, 174.25988426204552, 174.5530328494794, 174.18675331707033, 174.0970114383743, 176.19625044760795, 173.39934682857867, 174.01014658341947, 174.59413433010795, 173.80927400864456, 174.85256025021644, 174.45209740209754, 173.64767389493252, 174.83174054384372, 173.54235185279032, 175.17241278295904, 175.06066980783896, 174.9165924997858, 174.5962338577799, 174.7463548644539, 173.1882242295974, 174.98596316717914, 174.540984783359, 173.79639895650237, 174.1804105068325, 173.95698137663484, 174.86027162473678, 174.4134664697752, 173.92510217779065, 174.96914483558925, 172.9567159703552, 173.69980148444483, 174.26723200889188, 174.95972231764378, 173.7955468495356, 174.43793407954306, 173.81455358883602, 173.77451802208475, 175.02937031902823, 174.17523817161907, 173.9962566111184, 173.99289328335152, 174.96900229460869, 174.43201540743212, 174.3088893079264, 175.01397079203255, 174.27221106010853, 174.6253079734649, 174.05142675560836, 174.78418504572545, 174.14521779101204, 174.56491624519379, 174.88031975100296, 174.84924322467873, 173.94960438684967, 175.1608272344478, 173.24244559680128, 173.77565091144402, 174.3401410717596, 174.77157786787456, 174.48536518030622, 173.7523188748663, 174.0479272940994, 174.0178802523874, 174.1654211500412, 174.89443372974958, 175.07435817899804, 174.99964092180306, 175.2362507781726, 174.1953725252988, 173.89885806071754, 173.53662913448025, 174.22202243951176, 174.1237111335969, 173.37122236543522, 173.7318737071717, 174.1034685834894, 174.2332121017593, 174.00862167651655, 173.48748921592673, 173.82688314225234, 174.95024092384864, 173.7594282176663]\n"
     ]
    }
   ],
   "source": [
    "Output1 = [] \n",
    "for i in range(len(year1)):\n",
    "    Output1.append(np.mean(year1[i])) \n",
    "  \n",
    "# Printing output \n",
    "print(Output1) "
   ]
  },
  {
   "cell_type": "code",
   "execution_count": 439,
   "metadata": {},
   "outputs": [
    {
     "data": {
      "text/plain": [
       "174.298909704694"
      ]
     },
     "execution_count": 439,
     "metadata": {},
     "output_type": "execute_result"
    }
   ],
   "source": [
    "np.mean(Output1)"
   ]
  },
  {
   "cell_type": "code",
   "execution_count": 436,
   "metadata": {},
   "outputs": [
    {
     "data": {
      "text/plain": [
       "0.5657280631956616"
      ]
     },
     "execution_count": 436,
     "metadata": {},
     "output_type": "execute_result"
    }
   ],
   "source": [
    "np.std(Output1)"
   ]
  },
  {
   "cell_type": "markdown",
   "metadata": {},
   "source": [
    "What we've seen so far, then, is that we can estimate population parameters from a sample from the population, and that samples have their own distributions. Furthermore, the larger the sample size, the narrower are those sampling distributions."
   ]
  },
  {
   "cell_type": "markdown",
   "metadata": {},
   "source": [
    "### Normally testing time!"
   ]
  },
  {
   "cell_type": "markdown",
   "metadata": {},
   "source": [
    "All of the above is well and good. We've been sampling from a population we know is normally distributed, we've come to understand when to use $n$ and when to use $n-1$ in the denominator to calculate the spread of a distribution, and we've  seen the Central Limit Theorem in action for a sampling distribution. All seems very well behaved in Frequentist land. But, well, why should we really care?"
   ]
  },
  {
   "cell_type": "markdown",
   "metadata": {},
   "source": [
    "Remember, we rarely (if ever) actually know our population parameters but we still have to estimate them somehow. If we want to make inferences to conclusions like \"this observation is unusual\" or \"my population mean has changed\" then we need to have some idea of what the underlying distribution is so we can calculate relevant probabilities. In frequentist inference, we use the formulae above to deduce these population parameters. Take a moment in the next part of this assignment to refresh your understanding of how these probabilities work."
   ]
  },
  {
   "cell_type": "markdown",
   "metadata": {},
   "source": [
    "Recall some basic properties of the standard normal distribution, such as that about 68% of observations are within plus or minus 1 standard deviation of the mean. Check out the precise definition of a normal distribution on p. 394 of *AoS*. \n",
    "\n",
    "__Q11:__ Using this fact, calculate the probability of observing the value 1 or less in a single observation from the standard normal distribution. Hint: you may find it helpful to sketch the standard normal distribution (the familiar bell shape) and mark the number of standard deviations from the mean on the x-axis and shade the regions of the curve that contain certain percentages of the population."
   ]
  },
  {
   "cell_type": "code",
   "execution_count": 440,
   "metadata": {},
   "outputs": [
    {
     "data": {
      "text/plain": [
       "(array([1.000e+00, 1.000e+00, 1.000e+00, 2.000e+00, 0.000e+00, 3.000e+00,\n",
       "        4.000e+00, 1.000e+00, 2.000e+00, 6.000e+00, 1.000e+01, 1.800e+01,\n",
       "        1.100e+01, 2.200e+01, 2.600e+01, 3.700e+01, 6.400e+01, 7.900e+01,\n",
       "        1.010e+02, 1.050e+02, 1.410e+02, 1.880e+02, 2.330e+02, 2.880e+02,\n",
       "        3.390e+02, 3.660e+02, 4.580e+02, 5.810e+02, 6.840e+02, 8.470e+02,\n",
       "        9.450e+02, 1.118e+03, 1.325e+03, 1.443e+03, 1.688e+03, 1.787e+03,\n",
       "        2.013e+03, 2.331e+03, 2.383e+03, 2.639e+03, 2.795e+03, 2.912e+03,\n",
       "        2.979e+03, 3.277e+03, 3.324e+03, 3.424e+03, 3.642e+03, 3.605e+03,\n",
       "        3.584e+03, 3.560e+03, 3.577e+03, 3.486e+03, 3.432e+03, 3.279e+03,\n",
       "        3.134e+03, 2.946e+03, 2.675e+03, 2.587e+03, 2.352e+03, 2.199e+03,\n",
       "        2.034e+03, 1.776e+03, 1.646e+03, 1.349e+03, 1.269e+03, 1.120e+03,\n",
       "        9.660e+02, 8.640e+02, 6.830e+02, 6.220e+02, 5.300e+02, 4.160e+02,\n",
       "        3.750e+02, 2.580e+02, 2.190e+02, 1.770e+02, 1.430e+02, 1.250e+02,\n",
       "        7.200e+01, 7.700e+01, 6.300e+01, 4.000e+01, 3.800e+01, 2.500e+01,\n",
       "        1.700e+01, 1.000e+01, 6.000e+00, 6.000e+00, 2.000e+00, 1.000e+00,\n",
       "        3.000e+00, 2.000e+00, 1.000e+00, 1.000e+00, 0.000e+00, 2.000e+00,\n",
       "        0.000e+00, 0.000e+00, 1.000e+00, 1.000e+00]),\n",
       " array([150.10083041, 150.55279284, 151.00475526, 151.45671769,\n",
       "        151.90868012, 152.36064255, 152.81260498, 153.2645674 ,\n",
       "        153.71652983, 154.16849226, 154.62045469, 155.07241712,\n",
       "        155.52437954, 155.97634197, 156.4283044 , 156.88026683,\n",
       "        157.33222926, 157.78419168, 158.23615411, 158.68811654,\n",
       "        159.14007897, 159.59204139, 160.04400382, 160.49596625,\n",
       "        160.94792868, 161.39989111, 161.85185353, 162.30381596,\n",
       "        162.75577839, 163.20774082, 163.65970325, 164.11166567,\n",
       "        164.5636281 , 165.01559053, 165.46755296, 165.91951539,\n",
       "        166.37147781, 166.82344024, 167.27540267, 167.7273651 ,\n",
       "        168.17932753, 168.63128995, 169.08325238, 169.53521481,\n",
       "        169.98717724, 170.43913966, 170.89110209, 171.34306452,\n",
       "        171.79502695, 172.24698938, 172.6989518 , 173.15091423,\n",
       "        173.60287666, 174.05483909, 174.50680152, 174.95876394,\n",
       "        175.41072637, 175.8626888 , 176.31465123, 176.76661366,\n",
       "        177.21857608, 177.67053851, 178.12250094, 178.57446337,\n",
       "        179.0264258 , 179.47838822, 179.93035065, 180.38231308,\n",
       "        180.83427551, 181.28623793, 181.73820036, 182.19016279,\n",
       "        182.64212522, 183.09408765, 183.54605007, 183.9980125 ,\n",
       "        184.44997493, 184.90193736, 185.35389979, 185.80586221,\n",
       "        186.25782464, 186.70978707, 187.1617495 , 187.61371193,\n",
       "        188.06567435, 188.51763678, 188.96959921, 189.42156164,\n",
       "        189.87352406, 190.32548649, 190.77744892, 191.22941135,\n",
       "        191.68137378, 192.1333362 , 192.58529863, 193.03726106,\n",
       "        193.48922349, 193.94118592, 194.39314834, 194.84511077,\n",
       "        195.2970732 ]),\n",
       " <a list of 1 Patch objects>)"
      ]
     },
     "execution_count": 440,
     "metadata": {},
     "output_type": "execute_result"
    },
    {
     "data": {
      "image/png": "[encoded data removed]",
      "text/plain": [
       "<Figure size 432x288 with 1 Axes>"
      ]
     },
     "metadata": {},
     "output_type": "display_data"
    }
   ],
   "source": [
    "sample = np.random.normal(172, 5, 100000)\n",
    "plt.hist(sample, histtype='step', bins=100)\n"
   ]
  },
  {
   "cell_type": "code",
   "execution_count": 442,
   "metadata": {},
   "outputs": [
    {
     "data": {
      "text/plain": [
       "100000"
      ]
     },
     "execution_count": 442,
     "metadata": {},
     "output_type": "execute_result"
    }
   ],
   "source": [
    "samplelen = len(sample)\n",
    "samplelen"
   ]
  },
  {
   "cell_type": "markdown",
   "metadata": {},
   "source": [
    "Calculating this probability involved calculating the area under the curve from the value of 1 and below. To put it in mathematical terms, we need to *integrate* the probability density function. We could just add together the known areas of chunks (from -Inf to 0 and then 0 to $+\\sigma$ in the example above). One way to do this is to look up tables (literally). Fortunately, scipy has this functionality built in with the cdf() function."
   ]
  },
  {
   "cell_type": "markdown",
   "metadata": {},
   "source": [
    "__Q12:__ Use the cdf() function to answer the question above again and verify you get the same answer."
   ]
  },
  {
   "cell_type": "markdown",
   "metadata": {},
   "source": [
    "__A:__"
   ]
  },
  {
   "cell_type": "code",
   "execution_count": 441,
   "metadata": {},
   "outputs": [
    {
     "data": {
      "text/plain": [
       "[<matplotlib.lines.Line2D at 0x7f95461b1f10>]"
      ]
     },
     "execution_count": 441,
     "metadata": {},
     "output_type": "execute_result"
    },
    {
     "data": {
      "image/png": "[encoded data removed]",
      "text/plain": [
       "<Figure size 648x432 with 1 Axes>"
      ]
     },
     "metadata": {},
     "output_type": "display_data"
    }
   ],
   "source": [
    "x = np.arange(sample.min(), sample.max(), 0.001)\n",
    "y = norm.cdf(x, sample.mean(), sample.std())\n",
    "fig, ax = plt.subplots(figsize=(9,6))\n",
    "ax.plot(x,y)"
   ]
  },
  {
   "cell_type": "code",
   "execution_count": 399,
   "metadata": {},
   "outputs": [
    {
     "data": {
      "image/png": "[encoded data removed]",
      "text/plain": [
       "<Figure size 648x432 with 1 Axes>"
      ]
     },
     "metadata": {},
     "output_type": "display_data"
    }
   ],
   "source": [
    "x = np.arange(sample.min(), sample.max(), 0.001)\n",
    "y = norm.pdf(x, sample.mean(), sample.std())\n",
    "fig, ax = plt.subplots(figsize=(9,6))\n",
    "\n",
    "ax.plot(x,y)\n",
    "xfill = np.arange(167, 177, 0.00001)\n",
    "yfill = norm.pdf(xfill, sample.mean(), sample.std())\n",
    "ax.fill_between(xfill, yfill,0, alpha=0.2, color='blue')\n",
    "plt.style.use('fivethirtyeight')\n",
    "plt.show()"
   ]
  },
  {
   "cell_type": "markdown",
   "metadata": {},
   "source": [
    "__Q13:__ Using our knowledge of the population parameters for our townsfolks' heights, what is the probability of selecting one person at random and their height being 177 cm or less? Calculate this using both of the approaches given above."
   ]
  },
  {
   "cell_type": "markdown",
   "metadata": {},
   "source": [
    "__A:__"
   ]
  },
  {
   "cell_type": "code",
   "execution_count": 412,
   "metadata": {},
   "outputs": [
    {
     "data": {
      "text/plain": [
       "15830"
      ]
     },
     "execution_count": 412,
     "metadata": {},
     "output_type": "execute_result"
    }
   ],
   "source": [
    "#np.random.seed(42)\n",
    "\n",
    "#over177 = np.empty(10000)\n",
    "over177 = []\n",
    "for i in sample:\n",
    "    if int(i) >= 177.0:\n",
    "        over177.append(i)\n",
    "length_over177 = len(over177)\n",
    "length_over177\n"
   ]
  },
  {
   "cell_type": "code",
   "execution_count": 411,
   "metadata": {},
   "outputs": [
    {
     "data": {
      "text/plain": [
       "0.1583"
      ]
     },
     "execution_count": 411,
     "metadata": {},
     "output_type": "execute_result"
    }
   ],
   "source": [
    "prob = length_over177/len(sample)\n",
    "prob"
   ]
  },
  {
   "cell_type": "markdown",
   "metadata": {},
   "source": [
    "__Q14:__ Turning this question around — suppose we randomly pick one person and measure their height and find they are 2.00 m tall. How surprised should we be at this result, given what we know about the population distribution? In other words, how likely would it be to obtain a value at least as extreme as this? Express this as a probability. "
   ]
  },
  {
   "cell_type": "markdown",
   "metadata": {},
   "source": [
    "__A:__"
   ]
  },
  {
   "cell_type": "code",
   "execution_count": 456,
   "metadata": {},
   "outputs": [
    {
     "data": {
      "text/plain": [
       "0"
      ]
     },
     "execution_count": 456,
     "metadata": {},
     "output_type": "execute_result"
    }
   ],
   "source": [
    "over2 = []\n",
    "for i in sample:\n",
    "    if int(i) >= 200.00:\n",
    "        over2.append(i)\n",
    "length_over2 = len(over2)\n",
    "\n",
    "length_over2"
   ]
  },
  {
   "cell_type": "markdown",
   "metadata": {},
   "source": [
    "What we've just done is calculate the ***p-value*** of the observation of someone 2.00m tall (review *p*-values if you need to on p. 399 of *AoS*). We could calculate this probability by virtue of knowing the population parameters. We were then able to use the known properties of the relevant normal distribution to calculate the probability of observing a value at least as extreme as our test value."
   ]
  },
  {
   "cell_type": "markdown",
   "metadata": {},
   "source": [
    "We're about to come to a pinch, though. We've said a couple of times that we rarely, if ever, know the true population parameters; we have to estimate them from our sample and we cannot even begin to estimate the standard deviation from a single observation. \n",
    "\n",
    "This is very true and usually we have sample sizes larger than one. This means we can calculate the mean of the sample as our best estimate of the population mean and the standard deviation as our best estimate of the population standard deviation. \n",
    "\n",
    "In other words, we are now coming to deal with the sampling distributions we mentioned above as we are generally concerned with the properties of the sample means we obtain. \n",
    "\n",
    "Above, we highlighted one result from the CLT, whereby the sampling distribution (of the mean) becomes narrower and narrower with the square root of the sample size. We remind ourselves that another result from the CLT is that _even if the underlying population distribution is not normal, the sampling distribution will tend to become normal with sufficiently large sample size_. (**Check out p. 199 of AoS if you need to revise this**). This is the key driver for us 'requiring' a certain sample size, for example you may frequently see a minimum sample size of 30 stated in many places. In reality this is simply a rule of thumb; if the underlying distribution is approximately normal then your sampling distribution will already be pretty normal, but if the underlying distribution is heavily skewed then you'd want to increase your sample size."
   ]
  },
  {
   "cell_type": "markdown",
   "metadata": {},
   "source": [
    "__Q15:__ Let's now start from the position of knowing nothing about the heights of people in our town.\n",
    "* Use the random seed of 47, to randomly sample the heights of 50 townsfolk\n",
    "* Estimate the population mean using np.mean\n",
    "* Estimate the population standard deviation using np.std (remember which denominator to use!)\n",
    "* Calculate the (95%) [margin of error](https://www.statisticshowto.datasciencecentral.com/probability-and-statistics/hypothesis-testing/margin-of-error/#WhatMofE) (use the exact critial z value to 2 decimal places - [look this up](https://www.statisticshowto.datasciencecentral.com/probability-and-statistics/find-critical-values/) or use norm.ppf()) Recall that the ***margin of error*** is mentioned on p. 189 of the *AoS* and discussed in depth in that chapter). \n",
    "* Calculate the 95% Confidence Interval of the mean (***confidence intervals*** are defined on p. 385 of *AoS*) \n",
    "* Does this interval include the true population mean?"
   ]
  },
  {
   "cell_type": "markdown",
   "metadata": {},
   "source": [
    "__A:__"
   ]
  },
  {
   "cell_type": "code",
   "execution_count": 469,
   "metadata": {},
   "outputs": [],
   "source": [
    "seed(47)\n",
    "# take your sample now\n",
    "daily_sample3 = townsfolk_sampler(50)\n",
    "sample_mean = np.mean(daily_sample3)"
   ]
  },
  {
   "cell_type": "code",
   "execution_count": 470,
   "metadata": {},
   "outputs": [
    {
     "data": {
      "text/plain": [
       "4.195424364433547"
      ]
     },
     "execution_count": 470,
     "metadata": {},
     "output_type": "execute_result"
    }
   ],
   "source": [
    "pop_std = np.std(daily_sample3, ddof=1)\n",
    "pop_std"
   ]
  },
  {
   "cell_type": "code",
   "execution_count": 471,
   "metadata": {},
   "outputs": [
    {
     "data": {
      "text/plain": [
       "1.959963984540054"
      ]
     },
     "execution_count": 471,
     "metadata": {},
     "output_type": "execute_result"
    }
   ],
   "source": [
    "z_critical = norm.ppf(q = 0.975)\n",
    "z_critical"
   ]
  },
  {
   "cell_type": "code",
   "execution_count": 472,
   "metadata": {},
   "outputs": [
    {
     "data": {
      "text/plain": [
       "1.1628909342876539"
      ]
     },
     "execution_count": 472,
     "metadata": {},
     "output_type": "execute_result"
    }
   ],
   "source": [
    "margin_error = z_critical * pop_std/math.sqrt(50)\n",
    "margin_error"
   ]
  },
  {
   "cell_type": "code",
   "execution_count": 474,
   "metadata": {},
   "outputs": [
    {
     "data": {
      "text/plain": [
       "(171.61861992339115, 173.94440179196644)"
      ]
     },
     "execution_count": 474,
     "metadata": {},
     "output_type": "execute_result"
    }
   ],
   "source": [
    "confidence_interval = (sample_mean - margin_error,\n",
    "                       sample_mean + margin_error) \n",
    "confidence_interval "
   ]
  },
  {
   "cell_type": "markdown",
   "metadata": {},
   "source": [
    "__Q16:__ Above, we calculated the confidence interval using the critical z value. What is the problem with this? What requirement, or requirements, are we (strictly) failing?"
   ]
  },
  {
   "cell_type": "markdown",
   "metadata": {},
   "source": [
    "__A:__"
   ]
  },
  {
   "cell_type": "markdown",
   "metadata": {},
   "source": [
    "__Q17:__ Calculate the 95% confidence interval for the mean using the _t_ distribution. Is this wider or narrower than that based on the normal distribution above? If you're unsure, you may find this [resource](https://www.statisticshowto.datasciencecentral.com/probability-and-statistics/confidence-interval/) useful. For calculating the critical value, remember how you could calculate this for the normal distribution using norm.ppf()."
   ]
  },
  {
   "cell_type": "markdown",
   "metadata": {},
   "source": [
    "__A:__"
   ]
  },
  {
   "cell_type": "code",
   "execution_count": 478,
   "metadata": {},
   "outputs": [
    {
     "data": {
      "text/plain": [
       "2.009575234489209"
      ]
     },
     "execution_count": 478,
     "metadata": {},
     "output_type": "execute_result"
    }
   ],
   "source": [
    "t_critical = t.ppf(q = 0.975, df=49)\n",
    "t_critical"
   ]
  },
  {
   "cell_type": "code",
   "execution_count": 479,
   "metadata": {},
   "outputs": [
    {
     "data": {
      "text/plain": [
       "1.204431557276898"
      ]
     },
     "execution_count": 479,
     "metadata": {},
     "output_type": "execute_result"
    }
   ],
   "source": [
    "margin_error1 = t_critical * pop_std/math.sqrt(49)\n",
    "margin_error1"
   ]
  },
  {
   "cell_type": "code",
   "execution_count": 481,
   "metadata": {},
   "outputs": [
    {
     "data": {
      "text/plain": [
       "(171.5770793004019, 173.9859424149557)"
      ]
     },
     "execution_count": 481,
     "metadata": {},
     "output_type": "execute_result"
    }
   ],
   "source": [
    "confidence_interval1 = (sample_mean - margin_error1,\n",
    "                       sample_mean + margin_error1) \n",
    "confidence_interval1 "
   ]
  },
  {
   "cell_type": "markdown",
   "metadata": {},
   "source": [
    "This is slightly wider than the previous confidence interval. This reflects the greater uncertainty given that we are estimating population parameters from a sample."
   ]
  },
  {
   "cell_type": "markdown",
   "metadata": {},
   "source": [
    "## 4. Learning outcomes"
   ]
  },
  {
   "cell_type": "markdown",
   "metadata": {},
   "source": [
    "Having completed this project notebook, you now have hands-on experience:\n",
    "* sampling and calculating probabilities from a normal distribution\n",
    "* identifying the correct way to estimate the standard deviation of a population (the population parameter) from a sample\n",
    "* with sampling distribution and now know how the Central Limit Theorem applies\n",
    "* with how to calculate critical values and confidence intervals"
   ]
  },
  {
   "cell_type": "code",
   "execution_count": null,
   "metadata": {},
   "outputs": [],
   "source": []
  }
 ],
 "metadata": {
  "kernelspec": {
   "display_name": "Python 3",
   "language": "python",
   "name": "python3"
  },
  "language_info": {
   "codemirror_mode": {
    "name": "ipython",
    "version": 3
   },
   "file_extension": ".py",
   "mimetype": "text/x-python",
   "name": "python",
   "nbconvert_exporter": "python",
   "pygments_lexer": "ipython3",
   "version": "3.8.3"
  }
 },
 "nbformat": 4,
 "nbformat_minor": 4
}
